{
 "cells": [
  {
   "cell_type": "markdown",
   "id": "ef77994c",
   "metadata": {},
   "source": [
    "# Data Collection\n",
    "- Web Scrapping"
   ]
  },
  {
   "cell_type": "markdown",
   "id": "efe95ac4",
   "metadata": {},
   "source": [
    "### Case Study:\n",
    "- Used Cars"
   ]
  },
  {
   "cell_type": "markdown",
   "id": "689778e1",
   "metadata": {},
   "source": [
    "### 2.Relavant Website:\n",
    "- > website : www.cars24.com"
   ]
  },
  {
   "cell_type": "markdown",
   "id": "39aed28b",
   "metadata": {},
   "source": [
    "### 3.Problem Statement :\n",
    "- Analysis On Used Cars Based on their Features"
   ]
  },
  {
   "cell_type": "markdown",
   "id": "0920b963",
   "metadata": {},
   "source": [
    "### 4.Extracting the Data:"
   ]
  },
  {
   "cell_type": "code",
   "execution_count": 1,
   "id": "f312a48d",
   "metadata": {},
   "outputs": [],
   "source": [
    "import re\n",
    "import requests\n",
    "from bs4 import BeautifulSoup\n",
    "url='https://www.cars24.com/buy-used-car?sort=lhl&serveWarrantyCount=true&listingSource=Homepage_Filters&storeCityId=3686&pinId=500001'\n",
    "page=requests.get(url)\n",
    "soup=BeautifulSoup(page.text)"
   ]
  },
  {
   "cell_type": "code",
   "execution_count": 2,
   "id": "d66b03bf",
   "metadata": {},
   "outputs": [
    {
     "name": "stdout",
     "output_type": "stream",
     "text": [
      "https://www.cars24.com/buy-used-car?sort=bestmatch&serveWarrantyCount=true&gaId=815119091.1701413669&storeCityId=3686&pinId=500001\n",
      "brands-----> 20\n",
      "models----> 20\n",
      "prices----> 20\n",
      "year----> 20\n",
      "fuel----> 20\n",
      "km----> 20\n",
      "owner----> 20\n",
      "EMI----> 20\n",
      "https://www.cars24.com/buy-used-car?sort=bestmatch&serveWarrantyCount=true&gaId=815119091.1701413669&storeCityId=3686&pinId=380001\n",
      "brands-----> 40\n",
      "models----> 40\n",
      "prices----> 40\n",
      "year----> 40\n",
      "fuel----> 40\n",
      "km----> 40\n",
      "owner----> 40\n",
      "EMI----> 40\n",
      "https://www.cars24.com/buy-used-car?sort=bestmatch&serveWarrantyCount=true&gaId=815119091.1701413669&storeCityId=3686&pinId=560001\n",
      "brands-----> 60\n",
      "models----> 60\n",
      "prices----> 60\n",
      "year----> 60\n",
      "fuel----> 60\n",
      "km----> 60\n",
      "owner----> 60\n",
      "EMI----> 60\n",
      "https://www.cars24.com/buy-used-car?sort=bestmatch&serveWarrantyCount=true&gaId=815119091.1701413669&storeCityId=3686&pinId=600001\n",
      "brands-----> 80\n",
      "models----> 80\n",
      "prices----> 80\n",
      "year----> 80\n",
      "fuel----> 80\n",
      "km----> 80\n",
      "owner----> 80\n",
      "EMI----> 80\n",
      "https://www.cars24.com/buy-used-car?sort=bestmatch&serveWarrantyCount=true&gaId=815119091.1701413669&storeCityId=3686&pinId=201001\n",
      "brands-----> 100\n",
      "models----> 100\n",
      "prices----> 100\n",
      "year----> 100\n",
      "fuel----> 100\n",
      "km----> 100\n",
      "owner----> 100\n",
      "EMI----> 100\n",
      "https://www.cars24.com/buy-used-car?sort=bestmatch&serveWarrantyCount=true&gaId=815119091.1701413669&storeCityId=3686&pinId=122001\n",
      "brands-----> 100\n",
      "models----> 100\n",
      "prices----> 100\n",
      "year----> 100\n",
      "fuel----> 100\n",
      "km----> 100\n",
      "owner----> 100\n",
      "EMI----> 100\n",
      "https://www.cars24.com/buy-used-car?sort=bestmatch&serveWarrantyCount=true&gaId=815119091.1701413669&storeCityId=3686&pinId=450001\n",
      "brands-----> 120\n",
      "models----> 120\n",
      "prices----> 120\n",
      "year----> 120\n",
      "fuel----> 120\n",
      "km----> 120\n",
      "owner----> 120\n",
      "EMI----> 120\n",
      "https://www.cars24.com/buy-used-car?sort=bestmatch&serveWarrantyCount=true&gaId=815119091.1701413669&storeCityId=3686&pinId=302001\n",
      "brands-----> 140\n",
      "models----> 140\n",
      "prices----> 140\n",
      "year----> 140\n",
      "fuel----> 140\n",
      "km----> 140\n",
      "owner----> 140\n",
      "EMI----> 140\n",
      "https://www.cars24.com/buy-used-car?sort=bestmatch&serveWarrantyCount=true&gaId=815119091.1701413669&storeCityId=3686&pinId=682001\n",
      "brands-----> 160\n",
      "models----> 160\n",
      "prices----> 160\n",
      "year----> 160\n",
      "fuel----> 160\n",
      "km----> 160\n",
      "owner----> 160\n",
      "EMI----> 160\n",
      "https://www.cars24.com/buy-used-car?sort=bestmatch&serveWarrantyCount=true&gaId=815119091.1701413669&storeCityId=3686&pinId=700001\n",
      "brands-----> 180\n",
      "models----> 180\n",
      "prices----> 180\n",
      "year----> 180\n",
      "fuel----> 180\n",
      "km----> 180\n",
      "owner----> 180\n",
      "EMI----> 180\n",
      "https://www.cars24.com/buy-used-car?sort=bestmatch&serveWarrantyCount=true&gaId=815119091.1701413669&storeCityId=3686&pinId=226001\n",
      "brands-----> 200\n",
      "models----> 200\n",
      "prices----> 200\n",
      "year----> 200\n",
      "fuel----> 200\n",
      "km----> 200\n",
      "owner----> 200\n",
      "EMI----> 200\n",
      "https://www.cars24.com/buy-used-car?sort=bestmatch&serveWarrantyCount=true&gaId=815119091.1701413669&storeCityId=3686&pinId=400001\n",
      "brands-----> 220\n",
      "models----> 220\n",
      "prices----> 220\n",
      "year----> 220\n",
      "fuel----> 220\n",
      "km----> 220\n",
      "owner----> 220\n",
      "EMI----> 220\n",
      "https://www.cars24.com/buy-used-car?sort=bestmatch&serveWarrantyCount=true&gaId=815119091.1701413669&storeCityId=3686&pinId=110001\n",
      "brands-----> 240\n",
      "models----> 240\n",
      "prices----> 240\n",
      "year----> 240\n",
      "fuel----> 240\n",
      "km----> 240\n",
      "owner----> 240\n",
      "EMI----> 240\n",
      "https://www.cars24.com/buy-used-car?sort=bestmatch&serveWarrantyCount=true&gaId=815119091.1701413669&storeCityId=3686&pinId=201301\n",
      "brands-----> 260\n",
      "models----> 260\n",
      "prices----> 260\n",
      "year----> 260\n",
      "fuel----> 260\n",
      "km----> 260\n",
      "owner----> 260\n",
      "EMI----> 260\n",
      "https://www.cars24.com/buy-used-car?sort=bestmatch&serveWarrantyCount=true&gaId=815119091.1701413669&storeCityId=3686&pinId=411001\n",
      "brands-----> 280\n",
      "models----> 280\n",
      "prices----> 280\n",
      "year----> 280\n",
      "fuel----> 280\n",
      "km----> 280\n",
      "owner----> 280\n",
      "EMI----> 280\n",
      "https://www.cars24.com/buy-used-car?sort=bestmatch&serveWarrantyCount=true&gaId=815119091.1701413669&storeCityId=3686&pinId=202124\n",
      "brands-----> 300\n",
      "models----> 300\n",
      "prices----> 300\n",
      "year----> 300\n",
      "fuel----> 300\n",
      "km----> 300\n",
      "owner----> 300\n",
      "EMI----> 300\n",
      "https://www.cars24.com/buy-used-car?sort=bestmatch&serveWarrantyCount=true&gaId=815119091.1701413669&storeCityId=3686&pinId=134101\n",
      "brands-----> 320\n",
      "models----> 320\n",
      "prices----> 320\n",
      "year----> 320\n",
      "fuel----> 320\n",
      "km----> 320\n",
      "owner----> 320\n",
      "EMI----> 320\n",
      "https://www.cars24.com/buy-used-car?sort=bestmatch&serveWarrantyCount=true&gaId=815119091.1701413669&storeCityId=3686&pinId=641001\n",
      "brands-----> 340\n",
      "models----> 340\n",
      "prices----> 340\n",
      "year----> 340\n",
      "fuel----> 340\n",
      "km----> 340\n",
      "owner----> 340\n",
      "EMI----> 340\n",
      "https://www.cars24.com/buy-used-car?sort=bestmatch&serveWarrantyCount=true&gaId=815119091.1701413669&storeCityId=3686&pinId=141001\n",
      "brands-----> 360\n",
      "models----> 360\n",
      "prices----> 360\n",
      "year----> 360\n",
      "fuel----> 360\n",
      "km----> 360\n",
      "owner----> 360\n",
      "EMI----> 360\n",
      "https://www.cars24.com/buy-used-car?sort=bestmatch&serveWarrantyCount=true&gaId=815119091.1701413669&storeCityId=3686&pinId=440001\n",
      "brands-----> 380\n",
      "models----> 380\n",
      "prices----> 380\n",
      "year----> 380\n",
      "fuel----> 380\n",
      "km----> 380\n",
      "owner----> 380\n",
      "EMI----> 380\n",
      "https://www.cars24.com/buy-used-car?sort=bestmatch&serveWarrantyCount=true&gaId=815119091.1701413669&storeCityId=3686&pinId=422001\n",
      "brands-----> 400\n",
      "models----> 400\n",
      "prices----> 400\n",
      "year----> 400\n",
      "fuel----> 400\n",
      "km----> 400\n",
      "owner----> 400\n",
      "EMI----> 400\n",
      "https://www.cars24.com/buy-used-car?sort=bestmatch&serveWarrantyCount=true&gaId=815119091.1701413669&storeCityId=3686&pinId=800001\n",
      "brands-----> 420\n",
      "models----> 420\n",
      "prices----> 420\n",
      "year----> 420\n",
      "fuel----> 420\n",
      "km----> 420\n",
      "owner----> 420\n",
      "EMI----> 420\n",
      "https://www.cars24.com/buy-used-car?sort=bestmatch&serveWarrantyCount=true&gaId=815119091.1701413669&storeCityId=3686&pinId=360001\n",
      "brands-----> 440\n",
      "models----> 440\n",
      "prices----> 440\n",
      "year----> 440\n",
      "fuel----> 440\n",
      "km----> 440\n",
      "owner----> 440\n",
      "EMI----> 440\n",
      "https://www.cars24.com/buy-used-car?sort=bestmatch&serveWarrantyCount=true&gaId=815119091.1701413669&storeCityId=3686&pinId=124001\n",
      "brands-----> 460\n",
      "models----> 460\n",
      "prices----> 460\n",
      "year----> 460\n",
      "fuel----> 460\n",
      "km----> 460\n",
      "owner----> 460\n",
      "EMI----> 460\n",
      "https://www.cars24.com/buy-used-car?sort=bestmatch&serveWarrantyCount=true&gaId=815119091.1701413669&storeCityId=3686&pinId=394101\n",
      "brands-----> 480\n",
      "models----> 480\n",
      "prices----> 480\n",
      "year----> 480\n",
      "fuel----> 480\n",
      "km----> 480\n",
      "owner----> 480\n",
      "EMI----> 480\n",
      "https://www.cars24.com/buy-used-car?sort=bestmatch&serveWarrantyCount=true&gaId=815119091.1701413669&storeCityId=3686&pinId=390001\n",
      "brands-----> 500\n",
      "models----> 500\n",
      "prices----> 500\n",
      "year----> 500\n",
      "fuel----> 500\n",
      "km----> 500\n",
      "owner----> 500\n",
      "EMI----> 500\n"
     ]
    }
   ],
   "source": [
    "# Columns \n",
    "prices=[]\n",
    "brand=[]\n",
    "model=[]\n",
    "fuel=[]\n",
    "km=[]\n",
    "year=[]\n",
    "owner=[]\n",
    "emi=[]\n",
    "list1=[500001,380001,560001,600001,201001,122001,450001,302001,682001,700001,226001,400001,110001,201301,411001,202124,134101,641001,141001,440001,422001,800001,360001,124001,394101,390001]\n",
    "for i in list1:\n",
    "    url=\"https://www.cars24.com/buy-used-car?sort=bestmatch&serveWarrantyCount=true&gaId=815119091.1701413669&storeCityId=3686&pinId=\"+str(i)\n",
    "    print(url)\n",
    "    page = requests.get(url)\n",
    "    soup = BeautifulSoup(page.text)\n",
    "    p=soup.find_all('div',class_=\"_18ToE\")\n",
    "    for i in p:\n",
    "        prices.append(i.text.split('₹')[1])\n",
    "    y=soup.find_all('div',class_=\"_1mlAq\")\n",
    "    for i in y:\n",
    "        year.append(i.text.split()[0])\n",
    "    b=soup.find_all('div',class_=\"_1mlAq\")\n",
    "    for i in b:\n",
    "        brand.append(i.text.split()[1])\n",
    "    m=soup.find_all('div',class_=\"_1mlAq\")\n",
    "    for i in m:\n",
    "        model.append(i.text.split()[2])\n",
    "    k=soup.find_all('ul',class_=\"_13yb6\")\n",
    "    for i in k:\n",
    "        km.append(i.text.split()[0])\n",
    "    f=soup.find_all('ul',class_=\"_13yb6\")\n",
    "    for i in f:\n",
    "        a=i.text\n",
    "        b=re.findall('Petrol|Diesel',a)\n",
    "        if len(b)>0:\n",
    "            fuel.append(b[0])\n",
    "    s=soup.find_all('ul',class_=\"_13yb6\")\n",
    "    for i in s:\n",
    "        a=i.text\n",
    "        b=re.findall(\"(1|2)\",a)\n",
    "        if len(b)>0:\n",
    "            owner.append(b[0])\n",
    "    e=soup.find_all(\"div\",class_=\"_1Em-A\")\n",
    "    for i in e:\n",
    "        emi.append(i.text.split(\"/\")[0].split(\"₹\")[1])\n",
    "        \n",
    "    print(\"brands----->\",len(brand))\n",
    "    print(\"models---->\",len(model))\n",
    "    print(\"prices---->\",len(prices))\n",
    "    print(\"year---->\",len(year))\n",
    "    print(\"fuel---->\",len(fuel))\n",
    "    print(\"km---->\",len(km))\n",
    "    print(\"owner---->\",len(owner))\n",
    "    print(\"EMI---->\",len(emi))"
   ]
  },
  {
   "cell_type": "markdown",
   "id": "8d7bac47",
   "metadata": {},
   "source": [
    "### 5.Creating a DataFrame:"
   ]
  },
  {
   "cell_type": "code",
   "execution_count": 7,
   "id": "3f0b9046",
   "metadata": {},
   "outputs": [],
   "source": [
    "dict1={\"Brand\":brand,\n",
    "      \"Model\":model,\n",
    "      \"Year\":year,\n",
    "      \"Price\":prices,\n",
    "      \"Fuel\":fuel,\n",
    "      \"KM\":km,\n",
    "      \"Owner\":owner,\n",
    "      \"EMI\":emi}"
   ]
  },
  {
   "cell_type": "code",
   "execution_count": 11,
   "id": "81bd2f6b",
   "metadata": {},
   "outputs": [
    {
     "data": {
      "text/html": [
       "<div>\n",
       "<style scoped>\n",
       "    .dataframe tbody tr th:only-of-type {\n",
       "        vertical-align: middle;\n",
       "    }\n",
       "\n",
       "    .dataframe tbody tr th {\n",
       "        vertical-align: top;\n",
       "    }\n",
       "\n",
       "    .dataframe thead th {\n",
       "        text-align: right;\n",
       "    }\n",
       "</style>\n",
       "<table border=\"1\" class=\"dataframe\">\n",
       "  <thead>\n",
       "    <tr style=\"text-align: right;\">\n",
       "      <th></th>\n",
       "      <th>Brand</th>\n",
       "      <th>Model</th>\n",
       "      <th>Year</th>\n",
       "      <th>Price</th>\n",
       "      <th>Fuel</th>\n",
       "      <th>KM</th>\n",
       "      <th>Owner</th>\n",
       "      <th>EMI</th>\n",
       "    </tr>\n",
       "  </thead>\n",
       "  <tbody>\n",
       "    <tr>\n",
       "      <th>0</th>\n",
       "      <td>Tata</td>\n",
       "      <td>NEXON</td>\n",
       "      <td>2020</td>\n",
       "      <td>8,28,000</td>\n",
       "      <td>Diesel</td>\n",
       "      <td>56,519</td>\n",
       "      <td>1</td>\n",
       "      <td>15,760</td>\n",
       "    </tr>\n",
       "    <tr>\n",
       "      <th>1</th>\n",
       "      <td>Maruti</td>\n",
       "      <td>Ertiga</td>\n",
       "      <td>2013</td>\n",
       "      <td>6,20,000</td>\n",
       "      <td>Diesel</td>\n",
       "      <td>95,128</td>\n",
       "      <td>1</td>\n",
       "      <td>12,121</td>\n",
       "    </tr>\n",
       "    <tr>\n",
       "      <th>2</th>\n",
       "      <td>Renault</td>\n",
       "      <td>Kwid</td>\n",
       "      <td>2016</td>\n",
       "      <td>2,72,000</td>\n",
       "      <td>Petrol</td>\n",
       "      <td>42,203</td>\n",
       "      <td>2</td>\n",
       "      <td>5,318</td>\n",
       "    </tr>\n",
       "    <tr>\n",
       "      <th>3</th>\n",
       "      <td>Hyundai</td>\n",
       "      <td>Creta</td>\n",
       "      <td>2018</td>\n",
       "      <td>10,07,000</td>\n",
       "      <td>Petrol</td>\n",
       "      <td>86,368</td>\n",
       "      <td>2</td>\n",
       "      <td>19,167</td>\n",
       "    </tr>\n",
       "    <tr>\n",
       "      <th>4</th>\n",
       "      <td>Ford</td>\n",
       "      <td>FREESTYLE</td>\n",
       "      <td>2018</td>\n",
       "      <td>5,85,000</td>\n",
       "      <td>Petrol</td>\n",
       "      <td>35,161</td>\n",
       "      <td>1</td>\n",
       "      <td>11,437</td>\n",
       "    </tr>\n",
       "    <tr>\n",
       "      <th>...</th>\n",
       "      <td>...</td>\n",
       "      <td>...</td>\n",
       "      <td>...</td>\n",
       "      <td>...</td>\n",
       "      <td>...</td>\n",
       "      <td>...</td>\n",
       "      <td>...</td>\n",
       "      <td>...</td>\n",
       "    </tr>\n",
       "    <tr>\n",
       "      <th>515</th>\n",
       "      <td>Toyota</td>\n",
       "      <td>Innova</td>\n",
       "      <td>2017</td>\n",
       "      <td>16,29,000</td>\n",
       "      <td>Diesel</td>\n",
       "      <td>52,793</td>\n",
       "      <td>2</td>\n",
       "      <td>31,007</td>\n",
       "    </tr>\n",
       "    <tr>\n",
       "      <th>516</th>\n",
       "      <td>Hyundai</td>\n",
       "      <td>AURA</td>\n",
       "      <td>2022</td>\n",
       "      <td>7,70,000</td>\n",
       "      <td>Petrol</td>\n",
       "      <td>23,933</td>\n",
       "      <td>2</td>\n",
       "      <td>15,054</td>\n",
       "    </tr>\n",
       "    <tr>\n",
       "      <th>517</th>\n",
       "      <td>Maruti</td>\n",
       "      <td>Alto</td>\n",
       "      <td>2015</td>\n",
       "      <td>2,45,000</td>\n",
       "      <td>Petrol</td>\n",
       "      <td>73,944</td>\n",
       "      <td>1</td>\n",
       "      <td>4,790</td>\n",
       "    </tr>\n",
       "    <tr>\n",
       "      <th>518</th>\n",
       "      <td>Hyundai</td>\n",
       "      <td>i20</td>\n",
       "      <td>2011</td>\n",
       "      <td>2,73,000</td>\n",
       "      <td>Diesel</td>\n",
       "      <td>90,156</td>\n",
       "      <td>1</td>\n",
       "      <td>5,337</td>\n",
       "    </tr>\n",
       "    <tr>\n",
       "      <th>519</th>\n",
       "      <td>Tata</td>\n",
       "      <td>NEXON</td>\n",
       "      <td>2019</td>\n",
       "      <td>6,95,000</td>\n",
       "      <td>Petrol</td>\n",
       "      <td>28,070</td>\n",
       "      <td>2</td>\n",
       "      <td>13,587</td>\n",
       "    </tr>\n",
       "  </tbody>\n",
       "</table>\n",
       "<p>520 rows × 8 columns</p>\n",
       "</div>"
      ],
      "text/plain": [
       "       Brand      Model  Year      Price    Fuel      KM Owner     EMI\n",
       "0       Tata      NEXON  2020   8,28,000  Diesel  56,519     1  15,760\n",
       "1     Maruti     Ertiga  2013   6,20,000  Diesel  95,128     1  12,121\n",
       "2    Renault       Kwid  2016   2,72,000  Petrol  42,203     2   5,318\n",
       "3    Hyundai      Creta  2018  10,07,000  Petrol  86,368     2  19,167\n",
       "4       Ford  FREESTYLE  2018   5,85,000  Petrol  35,161     1  11,437\n",
       "..       ...        ...   ...        ...     ...     ...   ...     ...\n",
       "515   Toyota     Innova  2017  16,29,000  Diesel  52,793     2  31,007\n",
       "516  Hyundai       AURA  2022   7,70,000  Petrol  23,933     2  15,054\n",
       "517   Maruti       Alto  2015   2,45,000  Petrol  73,944     1   4,790\n",
       "518  Hyundai        i20  2011   2,73,000  Diesel  90,156     1   5,337\n",
       "519     Tata      NEXON  2019   6,95,000  Petrol  28,070     2  13,587\n",
       "\n",
       "[520 rows x 8 columns]"
      ]
     },
     "execution_count": 11,
     "metadata": {},
     "output_type": "execute_result"
    }
   ],
   "source": [
    "import pandas as pd\n",
    "data=pd.DataFrame(dict1)\n",
    "data"
   ]
  },
  {
   "cell_type": "markdown",
   "id": "ef6560fc",
   "metadata": {},
   "source": [
    "### 6.Exporting into .csv format"
   ]
  },
  {
   "cell_type": "code",
   "execution_count": 12,
   "id": "ffbcd827",
   "metadata": {},
   "outputs": [],
   "source": [
    "data.to_csv(\"D:\\NewCarData.csv\")"
   ]
  },
  {
   "cell_type": "markdown",
   "id": "aa751306",
   "metadata": {},
   "source": [
    "### 7.Read CSV File:"
   ]
  },
  {
   "cell_type": "code",
   "execution_count": 60,
   "id": "50a35d1d",
   "metadata": {},
   "outputs": [
    {
     "data": {
      "text/html": [
       "<div>\n",
       "<style scoped>\n",
       "    .dataframe tbody tr th:only-of-type {\n",
       "        vertical-align: middle;\n",
       "    }\n",
       "\n",
       "    .dataframe tbody tr th {\n",
       "        vertical-align: top;\n",
       "    }\n",
       "\n",
       "    .dataframe thead th {\n",
       "        text-align: right;\n",
       "    }\n",
       "</style>\n",
       "<table border=\"1\" class=\"dataframe\">\n",
       "  <thead>\n",
       "    <tr style=\"text-align: right;\">\n",
       "      <th></th>\n",
       "      <th>Unnamed: 0</th>\n",
       "      <th>Brand</th>\n",
       "      <th>Model</th>\n",
       "      <th>Year</th>\n",
       "      <th>Price</th>\n",
       "      <th>Fuel</th>\n",
       "      <th>KM</th>\n",
       "      <th>Owner</th>\n",
       "      <th>EMI</th>\n",
       "    </tr>\n",
       "  </thead>\n",
       "  <tbody>\n",
       "    <tr>\n",
       "      <th>0</th>\n",
       "      <td>0</td>\n",
       "      <td>Tata</td>\n",
       "      <td>NEXON</td>\n",
       "      <td>2020</td>\n",
       "      <td>8,28,000</td>\n",
       "      <td>Diesel</td>\n",
       "      <td>106,575</td>\n",
       "      <td>1</td>\n",
       "      <td>15,760</td>\n",
       "    </tr>\n",
       "    <tr>\n",
       "      <th>1</th>\n",
       "      <td>1</td>\n",
       "      <td>Maruti</td>\n",
       "      <td>Ertiga</td>\n",
       "      <td>2013</td>\n",
       "      <td>6,20,000</td>\n",
       "      <td>Diesel</td>\n",
       "      <td>91,286</td>\n",
       "      <td>1</td>\n",
       "      <td>12,121</td>\n",
       "    </tr>\n",
       "    <tr>\n",
       "      <th>2</th>\n",
       "      <td>2</td>\n",
       "      <td>Renault</td>\n",
       "      <td>Kwid</td>\n",
       "      <td>2016</td>\n",
       "      <td>2,72,000</td>\n",
       "      <td>Petrol</td>\n",
       "      <td>84,557</td>\n",
       "      <td>2</td>\n",
       "      <td>5,318</td>\n",
       "    </tr>\n",
       "    <tr>\n",
       "      <th>3</th>\n",
       "      <td>3</td>\n",
       "      <td>Hyundai</td>\n",
       "      <td>Creta</td>\n",
       "      <td>2018</td>\n",
       "      <td>10,07,000</td>\n",
       "      <td>Petrol</td>\n",
       "      <td>82,646</td>\n",
       "      <td>2</td>\n",
       "      <td>19,167</td>\n",
       "    </tr>\n",
       "    <tr>\n",
       "      <th>4</th>\n",
       "      <td>4</td>\n",
       "      <td>Ford</td>\n",
       "      <td>FREESTYLE</td>\n",
       "      <td>2018</td>\n",
       "      <td>5,85,000</td>\n",
       "      <td>Petrol</td>\n",
       "      <td>60,421</td>\n",
       "      <td>1</td>\n",
       "      <td>11,437</td>\n",
       "    </tr>\n",
       "    <tr>\n",
       "      <th>...</th>\n",
       "      <td>...</td>\n",
       "      <td>...</td>\n",
       "      <td>...</td>\n",
       "      <td>...</td>\n",
       "      <td>...</td>\n",
       "      <td>...</td>\n",
       "      <td>...</td>\n",
       "      <td>...</td>\n",
       "      <td>...</td>\n",
       "    </tr>\n",
       "    <tr>\n",
       "      <th>515</th>\n",
       "      <td>515</td>\n",
       "      <td>Toyota</td>\n",
       "      <td>Innova</td>\n",
       "      <td>2017</td>\n",
       "      <td>16,29,000</td>\n",
       "      <td>Diesel</td>\n",
       "      <td>105,553</td>\n",
       "      <td>2</td>\n",
       "      <td>31,007</td>\n",
       "    </tr>\n",
       "    <tr>\n",
       "      <th>516</th>\n",
       "      <td>516</td>\n",
       "      <td>Hyundai</td>\n",
       "      <td>AURA</td>\n",
       "      <td>2022</td>\n",
       "      <td>7,70,000</td>\n",
       "      <td>Petrol</td>\n",
       "      <td>104,051</td>\n",
       "      <td>2</td>\n",
       "      <td>15,054</td>\n",
       "    </tr>\n",
       "    <tr>\n",
       "      <th>517</th>\n",
       "      <td>517</td>\n",
       "      <td>Maruti</td>\n",
       "      <td>Alto</td>\n",
       "      <td>2015</td>\n",
       "      <td>2,45,000</td>\n",
       "      <td>Petrol</td>\n",
       "      <td>47,162</td>\n",
       "      <td>1</td>\n",
       "      <td>4,790</td>\n",
       "    </tr>\n",
       "    <tr>\n",
       "      <th>518</th>\n",
       "      <td>518</td>\n",
       "      <td>Hyundai</td>\n",
       "      <td>i20</td>\n",
       "      <td>2011</td>\n",
       "      <td>2,73,000</td>\n",
       "      <td>Diesel</td>\n",
       "      <td>115,388</td>\n",
       "      <td>1</td>\n",
       "      <td>5,337</td>\n",
       "    </tr>\n",
       "    <tr>\n",
       "      <th>519</th>\n",
       "      <td>519</td>\n",
       "      <td>Tata</td>\n",
       "      <td>NEXON</td>\n",
       "      <td>2019</td>\n",
       "      <td>6,95,000</td>\n",
       "      <td>Petrol</td>\n",
       "      <td>56,877</td>\n",
       "      <td>2</td>\n",
       "      <td>13,587</td>\n",
       "    </tr>\n",
       "  </tbody>\n",
       "</table>\n",
       "<p>520 rows × 9 columns</p>\n",
       "</div>"
      ],
      "text/plain": [
       "     Unnamed: 0    Brand      Model  Year      Price    Fuel       KM  Owner  \\\n",
       "0             0     Tata      NEXON  2020   8,28,000  Diesel  106,575      1   \n",
       "1             1   Maruti     Ertiga  2013   6,20,000  Diesel   91,286      1   \n",
       "2             2  Renault       Kwid  2016   2,72,000  Petrol   84,557      2   \n",
       "3             3  Hyundai      Creta  2018  10,07,000  Petrol   82,646      2   \n",
       "4             4     Ford  FREESTYLE  2018   5,85,000  Petrol   60,421      1   \n",
       "..          ...      ...        ...   ...        ...     ...      ...    ...   \n",
       "515         515   Toyota     Innova  2017  16,29,000  Diesel  105,553      2   \n",
       "516         516  Hyundai       AURA  2022   7,70,000  Petrol  104,051      2   \n",
       "517         517   Maruti       Alto  2015   2,45,000  Petrol   47,162      1   \n",
       "518         518  Hyundai        i20  2011   2,73,000  Diesel  115,388      1   \n",
       "519         519     Tata      NEXON  2019   6,95,000  Petrol   56,877      2   \n",
       "\n",
       "        EMI  \n",
       "0    15,760  \n",
       "1    12,121  \n",
       "2     5,318  \n",
       "3    19,167  \n",
       "4    11,437  \n",
       "..      ...  \n",
       "515  31,007  \n",
       "516  15,054  \n",
       "517   4,790  \n",
       "518   5,337  \n",
       "519  13,587  \n",
       "\n",
       "[520 rows x 9 columns]"
      ]
     },
     "execution_count": 60,
     "metadata": {},
     "output_type": "execute_result"
    }
   ],
   "source": [
    "import pandas as pd\n",
    "df=pd.read_csv(r\"D:\\NewCarData.csv\")\n",
    "df"
   ]
  },
  {
   "cell_type": "markdown",
   "id": "50d9fa30",
   "metadata": {},
   "source": [
    "### 8.Cleaning the Data:"
   ]
  },
  {
   "cell_type": "code",
   "execution_count": 43,
   "id": "336458ef",
   "metadata": {},
   "outputs": [
    {
     "data": {
      "text/plain": [
       "Index(['Unnamed: 0', 'Brand', 'Model', 'Year', 'Price', 'Fuel', 'KM', 'Owner',\n",
       "       'EMI'],\n",
       "      dtype='object')"
      ]
     },
     "execution_count": 43,
     "metadata": {},
     "output_type": "execute_result"
    }
   ],
   "source": [
    "# DataFrame Columns\n",
    "df.columns"
   ]
  },
  {
   "cell_type": "code",
   "execution_count": 61,
   "id": "b4900ee2",
   "metadata": {},
   "outputs": [
    {
     "data": {
      "text/html": [
       "<div>\n",
       "<style scoped>\n",
       "    .dataframe tbody tr th:only-of-type {\n",
       "        vertical-align: middle;\n",
       "    }\n",
       "\n",
       "    .dataframe tbody tr th {\n",
       "        vertical-align: top;\n",
       "    }\n",
       "\n",
       "    .dataframe thead th {\n",
       "        text-align: right;\n",
       "    }\n",
       "</style>\n",
       "<table border=\"1\" class=\"dataframe\">\n",
       "  <thead>\n",
       "    <tr style=\"text-align: right;\">\n",
       "      <th></th>\n",
       "      <th>Brand</th>\n",
       "      <th>Model</th>\n",
       "      <th>Year</th>\n",
       "      <th>Price</th>\n",
       "      <th>Fuel</th>\n",
       "      <th>KM</th>\n",
       "      <th>Owner</th>\n",
       "      <th>EMI</th>\n",
       "    </tr>\n",
       "  </thead>\n",
       "  <tbody>\n",
       "    <tr>\n",
       "      <th>0</th>\n",
       "      <td>Tata</td>\n",
       "      <td>NEXON</td>\n",
       "      <td>2020</td>\n",
       "      <td>8,28,000</td>\n",
       "      <td>Diesel</td>\n",
       "      <td>106,575</td>\n",
       "      <td>1</td>\n",
       "      <td>15,760</td>\n",
       "    </tr>\n",
       "    <tr>\n",
       "      <th>1</th>\n",
       "      <td>Maruti</td>\n",
       "      <td>Ertiga</td>\n",
       "      <td>2013</td>\n",
       "      <td>6,20,000</td>\n",
       "      <td>Diesel</td>\n",
       "      <td>91,286</td>\n",
       "      <td>1</td>\n",
       "      <td>12,121</td>\n",
       "    </tr>\n",
       "    <tr>\n",
       "      <th>2</th>\n",
       "      <td>Renault</td>\n",
       "      <td>Kwid</td>\n",
       "      <td>2016</td>\n",
       "      <td>2,72,000</td>\n",
       "      <td>Petrol</td>\n",
       "      <td>84,557</td>\n",
       "      <td>2</td>\n",
       "      <td>5,318</td>\n",
       "    </tr>\n",
       "    <tr>\n",
       "      <th>3</th>\n",
       "      <td>Hyundai</td>\n",
       "      <td>Creta</td>\n",
       "      <td>2018</td>\n",
       "      <td>10,07,000</td>\n",
       "      <td>Petrol</td>\n",
       "      <td>82,646</td>\n",
       "      <td>2</td>\n",
       "      <td>19,167</td>\n",
       "    </tr>\n",
       "    <tr>\n",
       "      <th>4</th>\n",
       "      <td>Ford</td>\n",
       "      <td>FREESTYLE</td>\n",
       "      <td>2018</td>\n",
       "      <td>5,85,000</td>\n",
       "      <td>Petrol</td>\n",
       "      <td>60,421</td>\n",
       "      <td>1</td>\n",
       "      <td>11,437</td>\n",
       "    </tr>\n",
       "    <tr>\n",
       "      <th>...</th>\n",
       "      <td>...</td>\n",
       "      <td>...</td>\n",
       "      <td>...</td>\n",
       "      <td>...</td>\n",
       "      <td>...</td>\n",
       "      <td>...</td>\n",
       "      <td>...</td>\n",
       "      <td>...</td>\n",
       "    </tr>\n",
       "    <tr>\n",
       "      <th>515</th>\n",
       "      <td>Toyota</td>\n",
       "      <td>Innova</td>\n",
       "      <td>2017</td>\n",
       "      <td>16,29,000</td>\n",
       "      <td>Diesel</td>\n",
       "      <td>105,553</td>\n",
       "      <td>2</td>\n",
       "      <td>31,007</td>\n",
       "    </tr>\n",
       "    <tr>\n",
       "      <th>516</th>\n",
       "      <td>Hyundai</td>\n",
       "      <td>AURA</td>\n",
       "      <td>2022</td>\n",
       "      <td>7,70,000</td>\n",
       "      <td>Petrol</td>\n",
       "      <td>104,051</td>\n",
       "      <td>2</td>\n",
       "      <td>15,054</td>\n",
       "    </tr>\n",
       "    <tr>\n",
       "      <th>517</th>\n",
       "      <td>Maruti</td>\n",
       "      <td>Alto</td>\n",
       "      <td>2015</td>\n",
       "      <td>2,45,000</td>\n",
       "      <td>Petrol</td>\n",
       "      <td>47,162</td>\n",
       "      <td>1</td>\n",
       "      <td>4,790</td>\n",
       "    </tr>\n",
       "    <tr>\n",
       "      <th>518</th>\n",
       "      <td>Hyundai</td>\n",
       "      <td>i20</td>\n",
       "      <td>2011</td>\n",
       "      <td>2,73,000</td>\n",
       "      <td>Diesel</td>\n",
       "      <td>115,388</td>\n",
       "      <td>1</td>\n",
       "      <td>5,337</td>\n",
       "    </tr>\n",
       "    <tr>\n",
       "      <th>519</th>\n",
       "      <td>Tata</td>\n",
       "      <td>NEXON</td>\n",
       "      <td>2019</td>\n",
       "      <td>6,95,000</td>\n",
       "      <td>Petrol</td>\n",
       "      <td>56,877</td>\n",
       "      <td>2</td>\n",
       "      <td>13,587</td>\n",
       "    </tr>\n",
       "  </tbody>\n",
       "</table>\n",
       "<p>520 rows × 8 columns</p>\n",
       "</div>"
      ],
      "text/plain": [
       "       Brand      Model  Year      Price    Fuel       KM  Owner     EMI\n",
       "0       Tata      NEXON  2020   8,28,000  Diesel  106,575      1  15,760\n",
       "1     Maruti     Ertiga  2013   6,20,000  Diesel   91,286      1  12,121\n",
       "2    Renault       Kwid  2016   2,72,000  Petrol   84,557      2   5,318\n",
       "3    Hyundai      Creta  2018  10,07,000  Petrol   82,646      2  19,167\n",
       "4       Ford  FREESTYLE  2018   5,85,000  Petrol   60,421      1  11,437\n",
       "..       ...        ...   ...        ...     ...      ...    ...     ...\n",
       "515   Toyota     Innova  2017  16,29,000  Diesel  105,553      2  31,007\n",
       "516  Hyundai       AURA  2022   7,70,000  Petrol  104,051      2  15,054\n",
       "517   Maruti       Alto  2015   2,45,000  Petrol   47,162      1   4,790\n",
       "518  Hyundai        i20  2011   2,73,000  Diesel  115,388      1   5,337\n",
       "519     Tata      NEXON  2019   6,95,000  Petrol   56,877      2  13,587\n",
       "\n",
       "[520 rows x 8 columns]"
      ]
     },
     "execution_count": 61,
     "metadata": {},
     "output_type": "execute_result"
    }
   ],
   "source": [
    "df.drop(\"Unnamed: 0\",axis=1,inplace=True)\n",
    "df"
   ]
  },
  {
   "cell_type": "code",
   "execution_count": 62,
   "id": "29358057",
   "metadata": {},
   "outputs": [
    {
     "data": {
      "text/plain": [
       "Brand    0\n",
       "Model    0\n",
       "Year     0\n",
       "Price    0\n",
       "Fuel     0\n",
       "KM       0\n",
       "Owner    0\n",
       "EMI      0\n",
       "dtype: int64"
      ]
     },
     "execution_count": 62,
     "metadata": {},
     "output_type": "execute_result"
    }
   ],
   "source": [
    "# Checking Null Values\n",
    "df.isnull().sum()"
   ]
  },
  {
   "cell_type": "code",
   "execution_count": 63,
   "id": "779d58c9",
   "metadata": {},
   "outputs": [
    {
     "data": {
      "text/plain": [
       "0"
      ]
     },
     "execution_count": 63,
     "metadata": {},
     "output_type": "execute_result"
    }
   ],
   "source": [
    "# Checking Duplicates\n",
    "df.duplicated().sum()"
   ]
  },
  {
   "cell_type": "code",
   "execution_count": 64,
   "id": "aae8c8d3",
   "metadata": {},
   "outputs": [
    {
     "data": {
      "text/plain": [
       "Brand    object\n",
       "Model    object\n",
       "Year      int64\n",
       "Price    object\n",
       "Fuel     object\n",
       "KM       object\n",
       "Owner     int64\n",
       "EMI      object\n",
       "dtype: object"
      ]
     },
     "execution_count": 64,
     "metadata": {},
     "output_type": "execute_result"
    }
   ],
   "source": [
    "# Checking Duplicates\n",
    "df.dtypes"
   ]
  },
  {
   "cell_type": "markdown",
   "id": "188ddd03",
   "metadata": {},
   "source": [
    "### Type Casting"
   ]
  },
  {
   "cell_type": "code",
   "execution_count": 65,
   "id": "175a8c04",
   "metadata": {},
   "outputs": [
    {
     "data": {
      "text/plain": [
       "Brand    object\n",
       "Model    object\n",
       "Year      int64\n",
       "Price     int32\n",
       "Fuel     object\n",
       "KM        int32\n",
       "Owner     int64\n",
       "EMI       int32\n",
       "dtype: object"
      ]
     },
     "execution_count": 65,
     "metadata": {},
     "output_type": "execute_result"
    }
   ],
   "source": [
    "# Type Casting of Price column\n",
    "df[\"Price\"]=[i.replace(\",\",\"\") for i in df[\"Price\"]]\n",
    "df[\"Price\"]=df[\"Price\"].astype(\"int\")\n",
    "# Type Casting of KM column\n",
    "df[\"KM\"]=[i.replace(\",\",\"\") for i in df[\"KM\"]]\n",
    "df[\"KM\"]=df[\"KM\"].astype(\"int\")\n",
    "# Type Casting of EMI column\n",
    "df[\"EMI\"]=[i.replace(\",\",\"\") for i in df[\"EMI\"]]\n",
    "df[\"EMI\"]=df[\"EMI\"].astype(\"int\")\n",
    "df.dtypes"
   ]
  },
  {
   "cell_type": "code",
   "execution_count": 66,
   "id": "a21dbb63",
   "metadata": {},
   "outputs": [],
   "source": [
    "df['Year'] = pd.to_datetime(df['Year'])"
   ]
  },
  {
   "cell_type": "code",
   "execution_count": 67,
   "id": "0a697673",
   "metadata": {},
   "outputs": [
    {
     "data": {
      "text/plain": [
       "Brand            object\n",
       "Model            object\n",
       "Year     datetime64[ns]\n",
       "Price             int32\n",
       "Fuel             object\n",
       "KM                int32\n",
       "Owner             int64\n",
       "EMI               int32\n",
       "dtype: object"
      ]
     },
     "execution_count": 67,
     "metadata": {},
     "output_type": "execute_result"
    }
   ],
   "source": [
    "df.dtypes"
   ]
  },
  {
   "cell_type": "code",
   "execution_count": 49,
   "id": "f9b28678",
   "metadata": {},
   "outputs": [],
   "source": [
    "df[\"Owner\"]=df[\"Owner\"].astype('str')"
   ]
  },
  {
   "cell_type": "code",
   "execution_count": 50,
   "id": "f53b380f",
   "metadata": {},
   "outputs": [],
   "source": [
    "df[\"Owner\"]=[i.replace(\"1\",\"1st\") for i in df[\"Owner\"]]"
   ]
  },
  {
   "cell_type": "code",
   "execution_count": 51,
   "id": "76ee619a",
   "metadata": {},
   "outputs": [],
   "source": [
    "df[\"Owner\"]=[i.replace(\"2\",\"2nd\") for i in df[\"Owner\"]]"
   ]
  },
  {
   "cell_type": "code",
   "execution_count": 39,
   "id": "a46b77d2",
   "metadata": {},
   "outputs": [],
   "source": [
    "df.to_csv(\"D:\\EDADF.csv\",index=False)"
   ]
  },
  {
   "cell_type": "code",
   "execution_count": 1,
   "id": "bb9a1b7d",
   "metadata": {},
   "outputs": [
    {
     "data": {
      "text/html": [
       "<div>\n",
       "<style scoped>\n",
       "    .dataframe tbody tr th:only-of-type {\n",
       "        vertical-align: middle;\n",
       "    }\n",
       "\n",
       "    .dataframe tbody tr th {\n",
       "        vertical-align: top;\n",
       "    }\n",
       "\n",
       "    .dataframe thead th {\n",
       "        text-align: right;\n",
       "    }\n",
       "</style>\n",
       "<table border=\"1\" class=\"dataframe\">\n",
       "  <thead>\n",
       "    <tr style=\"text-align: right;\">\n",
       "      <th></th>\n",
       "      <th>Unnamed: 0.1</th>\n",
       "      <th>Unnamed: 0</th>\n",
       "      <th>Brand</th>\n",
       "      <th>Model</th>\n",
       "      <th>Year</th>\n",
       "      <th>Price</th>\n",
       "      <th>Fuel</th>\n",
       "      <th>KM</th>\n",
       "      <th>Owner</th>\n",
       "      <th>EMI</th>\n",
       "    </tr>\n",
       "  </thead>\n",
       "  <tbody>\n",
       "    <tr>\n",
       "      <th>0</th>\n",
       "      <td>0</td>\n",
       "      <td>0</td>\n",
       "      <td>Tata</td>\n",
       "      <td>NEXON</td>\n",
       "      <td>2020-01-01</td>\n",
       "      <td>828000</td>\n",
       "      <td>Diesel</td>\n",
       "      <td>106575</td>\n",
       "      <td>1st</td>\n",
       "      <td>15760</td>\n",
       "    </tr>\n",
       "    <tr>\n",
       "      <th>1</th>\n",
       "      <td>1</td>\n",
       "      <td>1</td>\n",
       "      <td>Maruti</td>\n",
       "      <td>Ertiga</td>\n",
       "      <td>2013-01-01</td>\n",
       "      <td>620000</td>\n",
       "      <td>Diesel</td>\n",
       "      <td>91286</td>\n",
       "      <td>1st</td>\n",
       "      <td>12121</td>\n",
       "    </tr>\n",
       "    <tr>\n",
       "      <th>2</th>\n",
       "      <td>2</td>\n",
       "      <td>2</td>\n",
       "      <td>Renault</td>\n",
       "      <td>Kwid</td>\n",
       "      <td>2016-01-01</td>\n",
       "      <td>272000</td>\n",
       "      <td>Petrol</td>\n",
       "      <td>84557</td>\n",
       "      <td>2nd</td>\n",
       "      <td>5318</td>\n",
       "    </tr>\n",
       "    <tr>\n",
       "      <th>3</th>\n",
       "      <td>3</td>\n",
       "      <td>3</td>\n",
       "      <td>Hyundai</td>\n",
       "      <td>Creta</td>\n",
       "      <td>2018-01-01</td>\n",
       "      <td>1007000</td>\n",
       "      <td>Petrol</td>\n",
       "      <td>82646</td>\n",
       "      <td>2nd</td>\n",
       "      <td>19167</td>\n",
       "    </tr>\n",
       "    <tr>\n",
       "      <th>4</th>\n",
       "      <td>4</td>\n",
       "      <td>4</td>\n",
       "      <td>Ford</td>\n",
       "      <td>FREESTYLE</td>\n",
       "      <td>2018-01-01</td>\n",
       "      <td>585000</td>\n",
       "      <td>Petrol</td>\n",
       "      <td>60421</td>\n",
       "      <td>1st</td>\n",
       "      <td>11437</td>\n",
       "    </tr>\n",
       "    <tr>\n",
       "      <th>...</th>\n",
       "      <td>...</td>\n",
       "      <td>...</td>\n",
       "      <td>...</td>\n",
       "      <td>...</td>\n",
       "      <td>...</td>\n",
       "      <td>...</td>\n",
       "      <td>...</td>\n",
       "      <td>...</td>\n",
       "      <td>...</td>\n",
       "      <td>...</td>\n",
       "    </tr>\n",
       "    <tr>\n",
       "      <th>515</th>\n",
       "      <td>515</td>\n",
       "      <td>515</td>\n",
       "      <td>Toyota</td>\n",
       "      <td>Innova</td>\n",
       "      <td>2017-01-01</td>\n",
       "      <td>1629000</td>\n",
       "      <td>Diesel</td>\n",
       "      <td>105553</td>\n",
       "      <td>2nd</td>\n",
       "      <td>31007</td>\n",
       "    </tr>\n",
       "    <tr>\n",
       "      <th>516</th>\n",
       "      <td>516</td>\n",
       "      <td>516</td>\n",
       "      <td>Hyundai</td>\n",
       "      <td>AURA</td>\n",
       "      <td>2022-01-01</td>\n",
       "      <td>770000</td>\n",
       "      <td>Petrol</td>\n",
       "      <td>104051</td>\n",
       "      <td>2nd</td>\n",
       "      <td>15054</td>\n",
       "    </tr>\n",
       "    <tr>\n",
       "      <th>517</th>\n",
       "      <td>517</td>\n",
       "      <td>517</td>\n",
       "      <td>Maruti</td>\n",
       "      <td>Alto</td>\n",
       "      <td>2015-01-01</td>\n",
       "      <td>245000</td>\n",
       "      <td>Petrol</td>\n",
       "      <td>47162</td>\n",
       "      <td>1st</td>\n",
       "      <td>4790</td>\n",
       "    </tr>\n",
       "    <tr>\n",
       "      <th>518</th>\n",
       "      <td>518</td>\n",
       "      <td>518</td>\n",
       "      <td>Hyundai</td>\n",
       "      <td>i20</td>\n",
       "      <td>2011-01-01</td>\n",
       "      <td>273000</td>\n",
       "      <td>Diesel</td>\n",
       "      <td>115388</td>\n",
       "      <td>1st</td>\n",
       "      <td>5337</td>\n",
       "    </tr>\n",
       "    <tr>\n",
       "      <th>519</th>\n",
       "      <td>519</td>\n",
       "      <td>519</td>\n",
       "      <td>Tata</td>\n",
       "      <td>NEXON</td>\n",
       "      <td>2019-01-01</td>\n",
       "      <td>695000</td>\n",
       "      <td>Petrol</td>\n",
       "      <td>56877</td>\n",
       "      <td>2nd</td>\n",
       "      <td>13587</td>\n",
       "    </tr>\n",
       "  </tbody>\n",
       "</table>\n",
       "<p>520 rows × 10 columns</p>\n",
       "</div>"
      ],
      "text/plain": [
       "     Unnamed: 0.1  Unnamed: 0    Brand      Model        Year    Price  \\\n",
       "0               0           0     Tata      NEXON  2020-01-01   828000   \n",
       "1               1           1   Maruti     Ertiga  2013-01-01   620000   \n",
       "2               2           2  Renault       Kwid  2016-01-01   272000   \n",
       "3               3           3  Hyundai      Creta  2018-01-01  1007000   \n",
       "4               4           4     Ford  FREESTYLE  2018-01-01   585000   \n",
       "..            ...         ...      ...        ...         ...      ...   \n",
       "515           515         515   Toyota     Innova  2017-01-01  1629000   \n",
       "516           516         516  Hyundai       AURA  2022-01-01   770000   \n",
       "517           517         517   Maruti       Alto  2015-01-01   245000   \n",
       "518           518         518  Hyundai        i20  2011-01-01   273000   \n",
       "519           519         519     Tata      NEXON  2019-01-01   695000   \n",
       "\n",
       "       Fuel      KM Owner    EMI  \n",
       "0    Diesel  106575   1st  15760  \n",
       "1    Diesel   91286   1st  12121  \n",
       "2    Petrol   84557   2nd   5318  \n",
       "3    Petrol   82646   2nd  19167  \n",
       "4    Petrol   60421   1st  11437  \n",
       "..      ...     ...   ...    ...  \n",
       "515  Diesel  105553   2nd  31007  \n",
       "516  Petrol  104051   2nd  15054  \n",
       "517  Petrol   47162   1st   4790  \n",
       "518  Diesel  115388   1st   5337  \n",
       "519  Petrol   56877   2nd  13587  \n",
       "\n",
       "[520 rows x 10 columns]"
      ]
     },
     "execution_count": 1,
     "metadata": {},
     "output_type": "execute_result"
    }
   ],
   "source": [
    "import pandas as pd\n",
    "df=pd.read_csv(r\"D:\\EDADF.csv\")\n",
    "df"
   ]
  },
  {
   "cell_type": "code",
   "execution_count": 3,
   "id": "2aa1a131",
   "metadata": {},
   "outputs": [
    {
     "data": {
      "text/html": [
       "<div>\n",
       "<style scoped>\n",
       "    .dataframe tbody tr th:only-of-type {\n",
       "        vertical-align: middle;\n",
       "    }\n",
       "\n",
       "    .dataframe tbody tr th {\n",
       "        vertical-align: top;\n",
       "    }\n",
       "\n",
       "    .dataframe thead th {\n",
       "        text-align: right;\n",
       "    }\n",
       "</style>\n",
       "<table border=\"1\" class=\"dataframe\">\n",
       "  <thead>\n",
       "    <tr style=\"text-align: right;\">\n",
       "      <th></th>\n",
       "      <th>Brand</th>\n",
       "      <th>Model</th>\n",
       "      <th>Year</th>\n",
       "      <th>Price</th>\n",
       "      <th>Fuel</th>\n",
       "      <th>KM</th>\n",
       "      <th>Owner</th>\n",
       "      <th>EMI</th>\n",
       "    </tr>\n",
       "  </thead>\n",
       "  <tbody>\n",
       "    <tr>\n",
       "      <th>0</th>\n",
       "      <td>Tata</td>\n",
       "      <td>NEXON</td>\n",
       "      <td>2020-01-01</td>\n",
       "      <td>828000</td>\n",
       "      <td>Diesel</td>\n",
       "      <td>106575</td>\n",
       "      <td>1st</td>\n",
       "      <td>15760</td>\n",
       "    </tr>\n",
       "    <tr>\n",
       "      <th>1</th>\n",
       "      <td>Maruti</td>\n",
       "      <td>Ertiga</td>\n",
       "      <td>2013-01-01</td>\n",
       "      <td>620000</td>\n",
       "      <td>Diesel</td>\n",
       "      <td>91286</td>\n",
       "      <td>1st</td>\n",
       "      <td>12121</td>\n",
       "    </tr>\n",
       "    <tr>\n",
       "      <th>2</th>\n",
       "      <td>Renault</td>\n",
       "      <td>Kwid</td>\n",
       "      <td>2016-01-01</td>\n",
       "      <td>272000</td>\n",
       "      <td>Petrol</td>\n",
       "      <td>84557</td>\n",
       "      <td>2nd</td>\n",
       "      <td>5318</td>\n",
       "    </tr>\n",
       "    <tr>\n",
       "      <th>3</th>\n",
       "      <td>Hyundai</td>\n",
       "      <td>Creta</td>\n",
       "      <td>2018-01-01</td>\n",
       "      <td>1007000</td>\n",
       "      <td>Petrol</td>\n",
       "      <td>82646</td>\n",
       "      <td>2nd</td>\n",
       "      <td>19167</td>\n",
       "    </tr>\n",
       "    <tr>\n",
       "      <th>4</th>\n",
       "      <td>Ford</td>\n",
       "      <td>FREESTYLE</td>\n",
       "      <td>2018-01-01</td>\n",
       "      <td>585000</td>\n",
       "      <td>Petrol</td>\n",
       "      <td>60421</td>\n",
       "      <td>1st</td>\n",
       "      <td>11437</td>\n",
       "    </tr>\n",
       "    <tr>\n",
       "      <th>...</th>\n",
       "      <td>...</td>\n",
       "      <td>...</td>\n",
       "      <td>...</td>\n",
       "      <td>...</td>\n",
       "      <td>...</td>\n",
       "      <td>...</td>\n",
       "      <td>...</td>\n",
       "      <td>...</td>\n",
       "    </tr>\n",
       "    <tr>\n",
       "      <th>515</th>\n",
       "      <td>Toyota</td>\n",
       "      <td>Innova</td>\n",
       "      <td>2017-01-01</td>\n",
       "      <td>1629000</td>\n",
       "      <td>Diesel</td>\n",
       "      <td>105553</td>\n",
       "      <td>2nd</td>\n",
       "      <td>31007</td>\n",
       "    </tr>\n",
       "    <tr>\n",
       "      <th>516</th>\n",
       "      <td>Hyundai</td>\n",
       "      <td>AURA</td>\n",
       "      <td>2022-01-01</td>\n",
       "      <td>770000</td>\n",
       "      <td>Petrol</td>\n",
       "      <td>104051</td>\n",
       "      <td>2nd</td>\n",
       "      <td>15054</td>\n",
       "    </tr>\n",
       "    <tr>\n",
       "      <th>517</th>\n",
       "      <td>Maruti</td>\n",
       "      <td>Alto</td>\n",
       "      <td>2015-01-01</td>\n",
       "      <td>245000</td>\n",
       "      <td>Petrol</td>\n",
       "      <td>47162</td>\n",
       "      <td>1st</td>\n",
       "      <td>4790</td>\n",
       "    </tr>\n",
       "    <tr>\n",
       "      <th>518</th>\n",
       "      <td>Hyundai</td>\n",
       "      <td>i20</td>\n",
       "      <td>2011-01-01</td>\n",
       "      <td>273000</td>\n",
       "      <td>Diesel</td>\n",
       "      <td>115388</td>\n",
       "      <td>1st</td>\n",
       "      <td>5337</td>\n",
       "    </tr>\n",
       "    <tr>\n",
       "      <th>519</th>\n",
       "      <td>Tata</td>\n",
       "      <td>NEXON</td>\n",
       "      <td>2019-01-01</td>\n",
       "      <td>695000</td>\n",
       "      <td>Petrol</td>\n",
       "      <td>56877</td>\n",
       "      <td>2nd</td>\n",
       "      <td>13587</td>\n",
       "    </tr>\n",
       "  </tbody>\n",
       "</table>\n",
       "<p>520 rows × 8 columns</p>\n",
       "</div>"
      ],
      "text/plain": [
       "       Brand      Model        Year    Price    Fuel      KM Owner    EMI\n",
       "0       Tata      NEXON  2020-01-01   828000  Diesel  106575   1st  15760\n",
       "1     Maruti     Ertiga  2013-01-01   620000  Diesel   91286   1st  12121\n",
       "2    Renault       Kwid  2016-01-01   272000  Petrol   84557   2nd   5318\n",
       "3    Hyundai      Creta  2018-01-01  1007000  Petrol   82646   2nd  19167\n",
       "4       Ford  FREESTYLE  2018-01-01   585000  Petrol   60421   1st  11437\n",
       "..       ...        ...         ...      ...     ...     ...   ...    ...\n",
       "515   Toyota     Innova  2017-01-01  1629000  Diesel  105553   2nd  31007\n",
       "516  Hyundai       AURA  2022-01-01   770000  Petrol  104051   2nd  15054\n",
       "517   Maruti       Alto  2015-01-01   245000  Petrol   47162   1st   4790\n",
       "518  Hyundai        i20  2011-01-01   273000  Diesel  115388   1st   5337\n",
       "519     Tata      NEXON  2019-01-01   695000  Petrol   56877   2nd  13587\n",
       "\n",
       "[520 rows x 8 columns]"
      ]
     },
     "execution_count": 3,
     "metadata": {},
     "output_type": "execute_result"
    }
   ],
   "source": [
    "df.drop(\"Unnamed: 0\",axis=1,inplace=True)\n",
    "df"
   ]
  },
  {
   "cell_type": "markdown",
   "id": "22320746",
   "metadata": {},
   "source": [
    "# Data Analysis"
   ]
  },
  {
   "cell_type": "code",
   "execution_count": 4,
   "id": "b2ad48e1",
   "metadata": {},
   "outputs": [
    {
     "data": {
      "text/html": [
       "<div>\n",
       "<style scoped>\n",
       "    .dataframe tbody tr th:only-of-type {\n",
       "        vertical-align: middle;\n",
       "    }\n",
       "\n",
       "    .dataframe tbody tr th {\n",
       "        vertical-align: top;\n",
       "    }\n",
       "\n",
       "    .dataframe thead th {\n",
       "        text-align: right;\n",
       "    }\n",
       "</style>\n",
       "<table border=\"1\" class=\"dataframe\">\n",
       "  <thead>\n",
       "    <tr style=\"text-align: right;\">\n",
       "      <th></th>\n",
       "      <th>Brand</th>\n",
       "      <th>Model</th>\n",
       "      <th>Year</th>\n",
       "      <th>Price</th>\n",
       "      <th>Fuel</th>\n",
       "      <th>KM</th>\n",
       "      <th>Owner</th>\n",
       "      <th>EMI</th>\n",
       "    </tr>\n",
       "  </thead>\n",
       "  <tbody>\n",
       "    <tr>\n",
       "      <th>0</th>\n",
       "      <td>Tata</td>\n",
       "      <td>NEXON</td>\n",
       "      <td>2020-01-01</td>\n",
       "      <td>828000</td>\n",
       "      <td>Diesel</td>\n",
       "      <td>106575</td>\n",
       "      <td>1st</td>\n",
       "      <td>15760</td>\n",
       "    </tr>\n",
       "    <tr>\n",
       "      <th>1</th>\n",
       "      <td>Maruti</td>\n",
       "      <td>Ertiga</td>\n",
       "      <td>2013-01-01</td>\n",
       "      <td>620000</td>\n",
       "      <td>Diesel</td>\n",
       "      <td>91286</td>\n",
       "      <td>1st</td>\n",
       "      <td>12121</td>\n",
       "    </tr>\n",
       "    <tr>\n",
       "      <th>2</th>\n",
       "      <td>Renault</td>\n",
       "      <td>Kwid</td>\n",
       "      <td>2016-01-01</td>\n",
       "      <td>272000</td>\n",
       "      <td>Petrol</td>\n",
       "      <td>84557</td>\n",
       "      <td>2nd</td>\n",
       "      <td>5318</td>\n",
       "    </tr>\n",
       "    <tr>\n",
       "      <th>3</th>\n",
       "      <td>Hyundai</td>\n",
       "      <td>Creta</td>\n",
       "      <td>2018-01-01</td>\n",
       "      <td>1007000</td>\n",
       "      <td>Petrol</td>\n",
       "      <td>82646</td>\n",
       "      <td>2nd</td>\n",
       "      <td>19167</td>\n",
       "    </tr>\n",
       "    <tr>\n",
       "      <th>4</th>\n",
       "      <td>Ford</td>\n",
       "      <td>FREESTYLE</td>\n",
       "      <td>2018-01-01</td>\n",
       "      <td>585000</td>\n",
       "      <td>Petrol</td>\n",
       "      <td>60421</td>\n",
       "      <td>1st</td>\n",
       "      <td>11437</td>\n",
       "    </tr>\n",
       "  </tbody>\n",
       "</table>\n",
       "</div>"
      ],
      "text/plain": [
       "     Brand      Model        Year    Price    Fuel      KM Owner    EMI\n",
       "0     Tata      NEXON  2020-01-01   828000  Diesel  106575   1st  15760\n",
       "1   Maruti     Ertiga  2013-01-01   620000  Diesel   91286   1st  12121\n",
       "2  Renault       Kwid  2016-01-01   272000  Petrol   84557   2nd   5318\n",
       "3  Hyundai      Creta  2018-01-01  1007000  Petrol   82646   2nd  19167\n",
       "4     Ford  FREESTYLE  2018-01-01   585000  Petrol   60421   1st  11437"
      ]
     },
     "execution_count": 4,
     "metadata": {},
     "output_type": "execute_result"
    }
   ],
   "source": [
    "df.head()"
   ]
  },
  {
   "cell_type": "code",
   "execution_count": 5,
   "id": "f1b9561b",
   "metadata": {},
   "outputs": [
    {
     "data": {
      "text/plain": [
       "Index(['Brand', 'Model', 'Year', 'Price', 'Fuel', 'KM', 'Owner', 'EMI'], dtype='object')"
      ]
     },
     "execution_count": 5,
     "metadata": {},
     "output_type": "execute_result"
    }
   ],
   "source": [
    "df.columns"
   ]
  },
  {
   "cell_type": "code",
   "execution_count": 6,
   "id": "f4f6b17c",
   "metadata": {},
   "outputs": [
    {
     "data": {
      "text/html": [
       "<div>\n",
       "<style scoped>\n",
       "    .dataframe tbody tr th:only-of-type {\n",
       "        vertical-align: middle;\n",
       "    }\n",
       "\n",
       "    .dataframe tbody tr th {\n",
       "        vertical-align: top;\n",
       "    }\n",
       "\n",
       "    .dataframe thead th {\n",
       "        text-align: right;\n",
       "    }\n",
       "</style>\n",
       "<table border=\"1\" class=\"dataframe\">\n",
       "  <thead>\n",
       "    <tr style=\"text-align: right;\">\n",
       "      <th></th>\n",
       "      <th>Price</th>\n",
       "      <th>KM</th>\n",
       "      <th>EMI</th>\n",
       "    </tr>\n",
       "  </thead>\n",
       "  <tbody>\n",
       "    <tr>\n",
       "      <th>count</th>\n",
       "      <td>5.200000e+02</td>\n",
       "      <td>520.000000</td>\n",
       "      <td>520.00000</td>\n",
       "    </tr>\n",
       "    <tr>\n",
       "      <th>mean</th>\n",
       "      <td>5.848000e+05</td>\n",
       "      <td>74338.959615</td>\n",
       "      <td>11343.65000</td>\n",
       "    </tr>\n",
       "    <tr>\n",
       "      <th>std</th>\n",
       "      <td>3.205968e+05</td>\n",
       "      <td>28780.516096</td>\n",
       "      <td>6081.26764</td>\n",
       "    </tr>\n",
       "    <tr>\n",
       "      <th>min</th>\n",
       "      <td>2.450000e+05</td>\n",
       "      <td>28354.000000</td>\n",
       "      <td>4790.00000</td>\n",
       "    </tr>\n",
       "    <tr>\n",
       "      <th>25%</th>\n",
       "      <td>3.532500e+05</td>\n",
       "      <td>47801.750000</td>\n",
       "      <td>6906.50000</td>\n",
       "    </tr>\n",
       "    <tr>\n",
       "      <th>50%</th>\n",
       "      <td>5.555000e+05</td>\n",
       "      <td>73074.500000</td>\n",
       "      <td>10860.50000</td>\n",
       "    </tr>\n",
       "    <tr>\n",
       "      <th>75%</th>\n",
       "      <td>7.337500e+05</td>\n",
       "      <td>102016.250000</td>\n",
       "      <td>14345.00000</td>\n",
       "    </tr>\n",
       "    <tr>\n",
       "      <th>max</th>\n",
       "      <td>1.629000e+06</td>\n",
       "      <td>120777.000000</td>\n",
       "      <td>31007.00000</td>\n",
       "    </tr>\n",
       "  </tbody>\n",
       "</table>\n",
       "</div>"
      ],
      "text/plain": [
       "              Price             KM          EMI\n",
       "count  5.200000e+02     520.000000    520.00000\n",
       "mean   5.848000e+05   74338.959615  11343.65000\n",
       "std    3.205968e+05   28780.516096   6081.26764\n",
       "min    2.450000e+05   28354.000000   4790.00000\n",
       "25%    3.532500e+05   47801.750000   6906.50000\n",
       "50%    5.555000e+05   73074.500000  10860.50000\n",
       "75%    7.337500e+05  102016.250000  14345.00000\n",
       "max    1.629000e+06  120777.000000  31007.00000"
      ]
     },
     "execution_count": 6,
     "metadata": {},
     "output_type": "execute_result"
    }
   ],
   "source": [
    "df.describe()"
   ]
  },
  {
   "cell_type": "markdown",
   "id": "a0d34fd0",
   "metadata": {},
   "source": [
    "## Univariate Analysis"
   ]
  },
  {
   "cell_type": "markdown",
   "id": "17dd9645",
   "metadata": {},
   "source": [
    "#### Counting the Unique Values in each Column"
   ]
  },
  {
   "cell_type": "code",
   "execution_count": 7,
   "id": "f59933e1",
   "metadata": {},
   "outputs": [
    {
     "name": "stdout",
     "output_type": "stream",
     "text": [
      "7\n",
      "15\n",
      "11\n",
      "20\n",
      "2\n",
      "518\n",
      "2\n",
      "20\n"
     ]
    }
   ],
   "source": [
    "print(len(df['Brand'].unique()))\n",
    "print(len(df['Model'].unique()))\n",
    "print(len(df['Year'].unique()))\n",
    "print(len(df['Price'].unique()))\n",
    "print(len(df['Fuel'].unique()))\n",
    "print(len(df['KM'].unique()))\n",
    "print(len(df['Owner'].unique()))\n",
    "print(len(df[\"EMI\"].unique()))"
   ]
  },
  {
   "cell_type": "code",
   "execution_count": 8,
   "id": "6b2559d5",
   "metadata": {},
   "outputs": [
    {
     "data": {
      "text/plain": [
       "Brand\n",
       "Maruti     156\n",
       "Hyundai    156\n",
       "Tata        52\n",
       "Renault     52\n",
       "Honda       52\n",
       "Ford        26\n",
       "Toyota      26\n",
       "Name: count, dtype: int64"
      ]
     },
     "execution_count": 8,
     "metadata": {},
     "output_type": "execute_result"
    }
   ],
   "source": [
    "df['Brand'].value_counts()"
   ]
  },
  {
   "cell_type": "code",
   "execution_count": 9,
   "id": "39416f05",
   "metadata": {},
   "outputs": [
    {
     "data": {
      "text/plain": [
       "Model\n",
       "Swift        104\n",
       "NEXON         52\n",
       "Kwid          52\n",
       "Ertiga        26\n",
       "Creta         26\n",
       "FREESTYLE     26\n",
       "i10           26\n",
       "Verna         26\n",
       "Amaze         26\n",
       "GRAND         26\n",
       "City          26\n",
       "Innova        26\n",
       "AURA          26\n",
       "Alto          26\n",
       "i20           26\n",
       "Name: count, dtype: int64"
      ]
     },
     "execution_count": 9,
     "metadata": {},
     "output_type": "execute_result"
    }
   ],
   "source": [
    "df[\"Model\"].value_counts()"
   ]
  },
  {
   "cell_type": "markdown",
   "id": "4475e4b2",
   "metadata": {},
   "source": [
    "## Bivariate Analysis"
   ]
  },
  {
   "cell_type": "markdown",
   "id": "61aa25b9",
   "metadata": {},
   "source": [
    "#### Group by Fuel Type and Calculate Average Price"
   ]
  },
  {
   "cell_type": "code",
   "execution_count": 10,
   "id": "c584624c",
   "metadata": {},
   "outputs": [
    {
     "name": "stdout",
     "output_type": "stream",
     "text": [
      "Fuel\n",
      "Diesel    702166.666667\n",
      "Petrol    534500.000000\n",
      "Name: Price, dtype: float64\n"
     ]
    }
   ],
   "source": [
    "average_price_by_fuel = df.groupby('Fuel')['Price'].mean()\n",
    "print(average_price_by_fuel)"
   ]
  },
  {
   "cell_type": "markdown",
   "id": "ca2a27a6",
   "metadata": {},
   "source": [
    "#### Group by Car Brand and Count the Number of Models"
   ]
  },
  {
   "cell_type": "code",
   "execution_count": 11,
   "id": "ac94db39",
   "metadata": {},
   "outputs": [
    {
     "name": "stdout",
     "output_type": "stream",
     "text": [
      "Brand\n",
      "Ford       1\n",
      "Honda      2\n",
      "Hyundai    6\n",
      "Maruti     3\n",
      "Renault    1\n",
      "Tata       1\n",
      "Toyota     1\n",
      "Name: Model, dtype: int64\n"
     ]
    }
   ],
   "source": [
    "model_count_by_brand = df.groupby('Brand')['Model'].nunique()\n",
    "print(model_count_by_brand)"
   ]
  },
  {
   "cell_type": "markdown",
   "id": "3c22a491",
   "metadata": {},
   "source": [
    "#### Group by Year and Calculate the Total Kilometers Driven"
   ]
  },
  {
   "cell_type": "code",
   "execution_count": 83,
   "id": "ab37a2ef",
   "metadata": {},
   "outputs": [
    {
     "name": "stdout",
     "output_type": "stream",
     "text": [
      "Year\n",
      "2011-01-01    5828769\n",
      "2012-01-01    3963294\n",
      "2013-01-01    1860243\n",
      "2015-01-01    4089988\n",
      "2016-01-01    3711406\n",
      "2017-01-01    4230990\n",
      "2018-01-01    5679326\n",
      "2019-01-01    3784748\n",
      "2020-01-01    1724248\n",
      "2021-01-01    1794075\n",
      "2022-01-01    1989172\n",
      "Name: KM, dtype: int64\n"
     ]
    }
   ],
   "source": [
    "total_kilometers_by_year = df.groupby('Year')['KM'].sum()\n",
    "print(total_kilometers_by_year)"
   ]
  },
  {
   "cell_type": "markdown",
   "id": "36f4e878",
   "metadata": {},
   "source": [
    "#### Group by Number of Owners and Calculate Median Price"
   ]
  },
  {
   "cell_type": "code",
   "execution_count": 12,
   "id": "1c1393b6",
   "metadata": {
    "scrolled": true
   },
   "outputs": [
    {
     "name": "stdout",
     "output_type": "stream",
     "text": [
      "Owner\n",
      "1st    523500.0\n",
      "2nd    555500.0\n",
      "Name: Price, dtype: float64\n"
     ]
    }
   ],
   "source": [
    "median_price_by_owners = df.groupby('Owner')['Price'].median()\n",
    "print(median_price_by_owners)"
   ]
  },
  {
   "cell_type": "markdown",
   "id": "4e242039",
   "metadata": {},
   "source": [
    "#### Group by Model and Calculate Maximum EMI"
   ]
  },
  {
   "cell_type": "code",
   "execution_count": 13,
   "id": "a16be08e",
   "metadata": {},
   "outputs": [
    {
     "name": "stdout",
     "output_type": "stream",
     "text": [
      "Model\n",
      "AURA         15054\n",
      "Alto          4790\n",
      "Amaze         9032\n",
      "City         10323\n",
      "Creta        19167\n",
      "Ertiga       12121\n",
      "FREESTYLE    11437\n",
      "GRAND        14252\n",
      "Innova       31007\n",
      "Kwid          7058\n",
      "NEXON        15760\n",
      "Swift        11398\n",
      "Verna        14624\n",
      "i10           5122\n",
      "i20           5337\n",
      "Name: EMI, dtype: int64\n"
     ]
    }
   ],
   "source": [
    "max_emi_by_model = df.groupby('Model')['EMI'].max()\n",
    "print(max_emi_by_model)"
   ]
  },
  {
   "cell_type": "markdown",
   "id": "6bb5bada",
   "metadata": {},
   "source": [
    "# Multivariate Analysis"
   ]
  },
  {
   "cell_type": "markdown",
   "id": "7e761b5d",
   "metadata": {},
   "source": [
    "#### Group by Brand and Calculate Average Price and Maximum Kilometers Driven"
   ]
  },
  {
   "cell_type": "code",
   "execution_count": 14,
   "id": "ba3609ba",
   "metadata": {},
   "outputs": [
    {
     "name": "stdout",
     "output_type": "stream",
     "text": [
      "             Price      KM\n",
      "Brand                     \n",
      "Ford      585000.0  120247\n",
      "Honda     495000.0  114049\n",
      "Hyundai   631500.0  120582\n",
      "Maruti    424500.0  120777\n",
      "Renault   316500.0  120716\n",
      "Tata      761500.0  120195\n",
      "Toyota   1629000.0  120162\n"
     ]
    }
   ],
   "source": [
    "grouped_data = df.groupby('Brand').agg({'Price': 'mean', 'KM': 'max'})\n",
    "print(grouped_data)"
   ]
  },
  {
   "cell_type": "code",
   "execution_count": null,
   "id": "275c7cb8",
   "metadata": {},
   "outputs": [],
   "source": []
  },
  {
   "cell_type": "markdown",
   "id": "6c77be63",
   "metadata": {},
   "source": [
    "## Data Visuvalization"
   ]
  },
  {
   "cell_type": "markdown",
   "id": "ea7e8093",
   "metadata": {},
   "source": [
    "- > For Univariate"
   ]
  },
  {
   "cell_type": "code",
   "execution_count": 15,
   "id": "9bbabe6b",
   "metadata": {},
   "outputs": [],
   "source": [
    "import matplotlib.pyplot as plt\n",
    "import seaborn as sns"
   ]
  },
  {
   "cell_type": "code",
   "execution_count": 16,
   "id": "00f74c43",
   "metadata": {},
   "outputs": [
    {
     "data": {
      "text/plain": [
       "Text(0.5, 1.0, 'Distribution Of Price Data')"
      ]
     },
     "execution_count": 16,
     "metadata": {},
     "output_type": "execute_result"
    },
    {
     "data": {
      "image/png": "[encoded data removed]",
      "text/plain": [
       "<Figure size 640x480 with 1 Axes>"
      ]
     },
     "metadata": {},
     "output_type": "display_data"
    }
   ],
   "source": [
    "#  How prices are spread across different ranges.\n",
    "sns.histplot(x=df[\"Price\"])\n",
    "plt.title(\"Distribution Of Price Data\")"
   ]
  },
  {
   "cell_type": "code",
   "execution_count": 17,
   "id": "1cc993e4",
   "metadata": {},
   "outputs": [
    {
     "data": {
      "text/plain": [
       "<BarContainer object of 520 artists>"
      ]
     },
     "execution_count": 17,
     "metadata": {},
     "output_type": "execute_result"
    },
    {
     "data": {
      "image/png": "[encoded data removed]",
      "text/plain": [
       "<Figure size 640x480 with 1 Axes>"
      ]
     },
     "metadata": {},
     "output_type": "display_data"
    }
   ],
   "source": [
    "# Percentage of each fuel type\n",
    "plt.bar(df[\"Fuel\"],height=0.4,color='purple')"
   ]
  },
  {
   "cell_type": "code",
   "execution_count": 18,
   "id": "32fd9896",
   "metadata": {},
   "outputs": [
    {
     "data": {
      "image/png": "[encoded data removed]",
      "text/plain": [
       "<Figure size 640x480 with 1 Axes>"
      ]
     },
     "metadata": {},
     "output_type": "display_data"
    }
   ],
   "source": [
    "x=df[\"Brand\"].value_counts()\n",
    "plt.pie(x.values,labels=x.index,autopct='%1.1f%%')\n",
    "plt.show()"
   ]
  },
  {
   "cell_type": "markdown",
   "id": "eb5cbfbc",
   "metadata": {},
   "source": [
    "- > For Bivariate "
   ]
  },
  {
   "cell_type": "code",
   "execution_count": 19,
   "id": "cbeef91e",
   "metadata": {},
   "outputs": [
    {
     "data": {
      "text/plain": [
       "Price\n",
       "245000     26\n",
       "262000     26\n",
       "272000     26\n",
       "273000     26\n",
       "330000     26\n",
       "361000     26\n",
       "368000     26\n",
       "401000     26\n",
       "462000     26\n",
       "528000     26\n",
       "583000     26\n",
       "585000     26\n",
       "620000     26\n",
       "695000     26\n",
       "729000     26\n",
       "748000     26\n",
       "770000     26\n",
       "828000     26\n",
       "1007000    26\n",
       "1629000    26\n",
       "Name: Model, dtype: int64"
      ]
     },
     "execution_count": 19,
     "metadata": {},
     "output_type": "execute_result"
    }
   ],
   "source": [
    "df1=df.groupby([\"Price\"]).count()[\"Model\"]\n",
    "df1"
   ]
  },
  {
   "cell_type": "code",
   "execution_count": 20,
   "id": "018c3858",
   "metadata": {},
   "outputs": [
    {
     "name": "stdout",
     "output_type": "stream",
     "text": [
      "Fuel\n",
      "Diesel    702166.666667\n",
      "Petrol    534500.000000\n",
      "Name: Price, dtype: float64\n"
     ]
    }
   ],
   "source": [
    "average_price_by_fuel = df.groupby('Fuel')['Price'].mean()\n",
    "print(average_price_by_fuel)"
   ]
  },
  {
   "cell_type": "code",
   "execution_count": 21,
   "id": "8fd8f046",
   "metadata": {},
   "outputs": [
    {
     "data": {
      "image/png": "[encoded data removed]",
      "text/plain": [
       "<Figure size 600x400 with 1 Axes>"
      ]
     },
     "metadata": {},
     "output_type": "display_data"
    }
   ],
   "source": [
    "plt.figure(figsize=(6,4))\n",
    "sns.barplot(x='Brand', y='Price', hue='Fuel', data=df, palette='Set2')\n",
    "plt.title('Grouped Bar Chart - Brand vs. Price (Grouped by Fuel Type)')\n",
    "plt.xlabel('Car Brand')\n",
    "plt.ylabel('Price')\n",
    "plt.legend(title='Fuel Type')\n",
    "plt.show()"
   ]
  },
  {
   "cell_type": "code",
   "execution_count": 22,
   "id": "07f18e9d",
   "metadata": {},
   "outputs": [
    {
     "data": {
      "image/png": "[encoded data removed]",
      "text/plain": [
       "<Figure size 640x480 with 1 Axes>"
      ]
     },
     "metadata": {},
     "output_type": "display_data"
    }
   ],
   "source": [
    "sns.boxplot(x='Fuel', y='Price', data=df)\n",
    "plt.title('Box Plot - Fuel Type vs. Price')\n",
    "plt.xlabel('Fuel Type')\n",
    "plt.ylabel('Price')\n",
    "plt.show()"
   ]
  },
  {
   "cell_type": "markdown",
   "id": "efc86643",
   "metadata": {},
   "source": [
    "- > For Multivariate"
   ]
  },
  {
   "cell_type": "code",
   "execution_count": 23,
   "id": "f95d930e",
   "metadata": {},
   "outputs": [
    {
     "data": {
      "text/html": [
       "<div>\n",
       "<style scoped>\n",
       "    .dataframe tbody tr th:only-of-type {\n",
       "        vertical-align: middle;\n",
       "    }\n",
       "\n",
       "    .dataframe tbody tr th {\n",
       "        vertical-align: top;\n",
       "    }\n",
       "\n",
       "    .dataframe thead th {\n",
       "        text-align: right;\n",
       "    }\n",
       "</style>\n",
       "<table border=\"1\" class=\"dataframe\">\n",
       "  <thead>\n",
       "    <tr style=\"text-align: right;\">\n",
       "      <th></th>\n",
       "      <th>Price</th>\n",
       "      <th>KM</th>\n",
       "      <th>EMI</th>\n",
       "    </tr>\n",
       "  </thead>\n",
       "  <tbody>\n",
       "    <tr>\n",
       "      <th>Price</th>\n",
       "      <td>1.000000</td>\n",
       "      <td>0.017614</td>\n",
       "      <td>0.999799</td>\n",
       "    </tr>\n",
       "    <tr>\n",
       "      <th>KM</th>\n",
       "      <td>0.017614</td>\n",
       "      <td>1.000000</td>\n",
       "      <td>0.017423</td>\n",
       "    </tr>\n",
       "    <tr>\n",
       "      <th>EMI</th>\n",
       "      <td>0.999799</td>\n",
       "      <td>0.017423</td>\n",
       "      <td>1.000000</td>\n",
       "    </tr>\n",
       "  </tbody>\n",
       "</table>\n",
       "</div>"
      ],
      "text/plain": [
       "          Price        KM       EMI\n",
       "Price  1.000000  0.017614  0.999799\n",
       "KM     0.017614  1.000000  0.017423\n",
       "EMI    0.999799  0.017423  1.000000"
      ]
     },
     "execution_count": 23,
     "metadata": {},
     "output_type": "execute_result"
    }
   ],
   "source": [
    "numerical_columns = df[['Price', 'KM', 'EMI']]\n",
    "numerical_columns.corr()"
   ]
  },
  {
   "cell_type": "code",
   "execution_count": 25,
   "id": "353a1e3a",
   "metadata": {},
   "outputs": [
    {
     "data": {
      "image/png": "[encoded data removed]",
      "text/plain": [
       "<Figure size 800x400 with 1 Axes>"
      ]
     },
     "metadata": {},
     "output_type": "display_data"
    }
   ],
   "source": [
    "# Calculate the average price for each car model\n",
    "average_price_by_Brand = df.groupby('Brand')['Price'].mean().reset_index()\n",
    "# Sort the data by average price in descending order for better visualization\n",
    "average_price_by_Brand = average_price_by_Brand.sort_values(by='Price', ascending=False)\n",
    "# Create a grouped bar chart using Seaborn\n",
    "plt.figure(figsize=(8,4))\n",
    "sns.barplot(x='Brand', y='Price', data=average_price_by_Brand, palette='viridis')\n",
    "plt.xticks(ha='right')\n",
    "plt.title('Average Price by Car Brand')\n",
    "plt.xlabel('Car Brand')\n",
    "plt.ylabel('Average Price')\n",
    "plt.show()"
   ]
  },
  {
   "cell_type": "code",
   "execution_count": 26,
   "id": "9e532e5c",
   "metadata": {},
   "outputs": [
    {
     "name": "stderr",
     "output_type": "stream",
     "text": [
      "C:\\Users\\PC\\.anaconda\\32\\Lib\\site-packages\\seaborn\\axisgrid.py:118: UserWarning: The figure layout has changed to tight\n",
      "  self._figure.tight_layout(*args, **kwargs)\n"
     ]
    },
    {
     "data": {
      "image/png": "[encoded data removed]",
      "text/plain": [
       "<Figure size 750x750 with 12 Axes>"
      ]
     },
     "metadata": {},
     "output_type": "display_data"
    }
   ],
   "source": [
    "numeric_columns =df[['Price','KM','EMI']]\n",
    "sns.pairplot(numeric_columns)\n",
    "plt.show()"
   ]
  },
  {
   "cell_type": "code",
   "execution_count": 27,
   "id": "71fd7b75",
   "metadata": {},
   "outputs": [
    {
     "data": {
      "image/png": "[encoded data removed]",
      "text/plain": [
       "<Figure size 1400x800 with 1 Axes>"
      ]
     },
     "metadata": {},
     "output_type": "display_data"
    }
   ],
   "source": [
    "import pandas as pd\n",
    "import seaborn as sns\n",
    "import matplotlib.pyplot as plt\n",
    "plt.figure(figsize=(14, 8))\n",
    "sns.violinplot(x='Fuel', y='Price', hue='Fuel', data=df, split=True)\n",
    "plt.title('Violin Plot - Fuel Type vs. Price vs. Kilometers Driven')\n",
    "plt.xlabel('Fuel')\n",
    "plt.ylabel('Price')\n",
    "plt.show()"
   ]
  },
  {
   "cell_type": "code",
   "execution_count": null,
   "id": "48d5f541",
   "metadata": {},
   "outputs": [],
   "source": []
  }
 ],
 "metadata": {
  "kernelspec": {
   "display_name": "Python 3 (ipykernel)",
   "language": "python",
   "name": "python3"
  },
  "language_info": {
   "codemirror_mode": {
    "name": "ipython",
    "version": 3
   },
   "file_extension": ".py",
   "mimetype": "text/x-python",
   "name": "python",
   "nbconvert_exporter": "python",
   "pygments_lexer": "ipython3",
   "version": "3.11.5"
  }
 },
 "nbformat": 4,
 "nbformat_minor": 5
}
